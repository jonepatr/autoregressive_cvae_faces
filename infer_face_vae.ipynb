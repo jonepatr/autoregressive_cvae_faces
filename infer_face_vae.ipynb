{
 "cells": [
  {
   "cell_type": "code",
   "execution_count": 1,
   "metadata": {},
   "outputs": [
    {
     "name": "stderr",
     "output_type": "stream",
     "text": [
      "docker is not installed. DockerTask requires docker.\n"
     ]
    }
   ],
   "source": [
    "from vae_faces import FaceVAE\n",
    "import torch\n",
    "import matplotlib.pyplot as plt\n",
    "import numpy as np\n",
    "import glob\n",
    "from ipywidgets import interact, interactive, fixed, interact_manual, FloatSlider\n",
    "import ipywidgets as widgets"
   ]
  },
  {
   "cell_type": "code",
   "execution_count": null,
   "metadata": {},
   "outputs": [],
   "source": []
  },
  {
   "cell_type": "code",
   "execution_count": 2,
   "metadata": {},
   "outputs": [],
   "source": [
    "def plot_lines(x, ax):\n",
    "    ax.plot(x[0:17,  0],    -x[0:17,  1]) # Jaw\n",
    "    ax.plot(x[17:22, 0],    -x[17:22, 1]) # left eyebrow\n",
    "    ax.plot(x[22:27, 0],    -x[22:27, 1]) # right eyebrow\n",
    "    ax.plot(x[27:31, 0],    -x[27:31, 1]) # vertical nose\n",
    "    ax.plot(x[31:36, 0],    -x[31:36, 1]) # horizontal nose\n",
    "    ax.plot(x[list(range(36,42)) + [36], 0], -x[list(range(36,42)) + [36], 1]) # left eye\n",
    "    ax.plot(x[list(range(42, 48)) + [42], 0], -x[list(range(42, 48)) + [42], 1]) # right eye\n",
    "    ax.plot(x[list(range(48, 60)) + [48], 0], -x[list(range(48, 60)) + [48], 1]) # outer mouth\n",
    "    ax.plot(x[list(range(60, 68)) + [60], 0], -x[list(range(60, 68)) + [60], 1]) # inner mouth\n",
    "    ax.scatter(x[68:70, 0], -x[68:70, 1])\n",
    "    ax.set_xlim([-1, 1])\n",
    "    ax.set_ylim([-1, 1])"
   ]
  },
  {
   "cell_type": "code",
   "execution_count": 3,
   "metadata": {},
   "outputs": [
    {
     "data": {
      "application/vnd.jupyter.widget-view+json": {
       "model_id": "83a060d99d5f432eb37f31ef35ffb424",
       "version_major": 2,
       "version_minor": 0
      },
      "text/plain": [
       "interactive(children=(FloatSlider(value=0.0, continuous_update=False, description='0', max=5.0, min=-5.0), Flo…"
      ]
     },
     "metadata": {},
     "output_type": "display_data"
    }
   ],
   "source": [
    "bottleneck_size = 5\n",
    "experiment = 1\n",
    "\n",
    "file_ = glob.glob(f'/workspace/results/model_weights/vae/{experiment}/_ckpt_epoch_*.ckpt')[0]\n",
    "\n",
    "pretrained_model = FaceVAE.load_from_metrics(\n",
    "    weights_path=file_,\n",
    "    tags_csv=f'results/test_tube_data/vae/version_{experiment}/meta_tags.csv',\n",
    "    on_gpu=False\n",
    "#     map_location=None\n",
    ")\n",
    "\n",
    "# predict\n",
    "pretrained_model.eval()\n",
    "pretrained_model.freeze()\n",
    "\n",
    "\n",
    "def f(**kwargs):\n",
    "    sample = torch.tensor([x for x in kwargs.values()])\n",
    "\n",
    "    x_out = pretrained_model.decode(sample)  # .numpy()\n",
    "#     x_out = pretrained_model.reparameterize(mu, logvar)\n",
    "    sample_res = x_out.reshape(70, 2).cpu()\n",
    "    \n",
    "    \n",
    "    fig, ax1 = plt.subplots(1, 1)\n",
    "    plot_lines(sample_res, ax1)\n",
    "#     ax1.scatter(-sample_res[:, 0], -sample_res[:, 1])\n",
    "#     plt.show()\n",
    "\n",
    "varbs = {str(x): FloatSlider(min=-5, max=5, continuous_update=False) for x in range(bottleneck_size)}\n",
    "interact(f, **varbs);"
   ]
  },
  {
   "cell_type": "code",
   "execution_count": null,
   "metadata": {},
   "outputs": [],
   "source": []
  },
  {
   "cell_type": "code",
   "execution_count": null,
   "metadata": {},
   "outputs": [],
   "source": []
  }
 ],
 "metadata": {
  "kernelspec": {
   "display_name": "Python 3",
   "language": "python",
   "name": "python3"
  },
  "language_info": {
   "codemirror_mode": {
    "name": "ipython",
    "version": 3
   },
   "file_extension": ".py",
   "mimetype": "text/x-python",
   "name": "python",
   "nbconvert_exporter": "python",
   "pygments_lexer": "ipython3",
   "version": "3.7.3"
  }
 },
 "nbformat": 4,
 "nbformat_minor": 2
}
